{
 "cells": [
  {
   "cell_type": "markdown",
   "id": "6df09841",
   "metadata": {},
   "source": [
    "# Convert adf to tif"
   ]
  },
  {
   "cell_type": "code",
   "execution_count": 1,
   "id": "5f36b4bb",
   "metadata": {},
   "outputs": [],
   "source": [
    "import subprocess\n",
    "import os\n",
    "\n",
    "from osgeo import gdal"
   ]
  },
  {
   "cell_type": "code",
   "execution_count": 3,
   "id": "1be2006c",
   "metadata": {},
   "outputs": [],
   "source": [
    "src_filename = \"./hmt_data/nc20ft/w001000.adf\"\n",
    "dst_filename = \"./hmt_data/output.tif\""
   ]
  },
  {
   "cell_type": "code",
   "execution_count": 5,
   "id": "574d0bcf",
   "metadata": {},
   "outputs": [
    {
     "name": "stdout",
     "output_type": "stream",
     "text": [
      "Input file size is 133000, 51000\n",
      "0...10...20...30...40...50...60...70...80...90...100 - done.\n"
     ]
    },
    {
     "data": {
      "text/plain": [
       "0"
      ]
     },
     "execution_count": 5,
     "metadata": {},
     "output_type": "execute_result"
    }
   ],
   "source": [
    "subprocess.call([\"gdal_translate\", \"-ot\", \"Float32\", \"-of\", \"GTiff\", src_filename, dst_filename])"
   ]
  },
  {
   "cell_type": "markdown",
   "id": "5e007ab4",
   "metadata": {},
   "source": [
    "# Merge raster files"
   ]
  },
  {
   "cell_type": "code",
   "execution_count": null,
   "id": "a29758a5",
   "metadata": {},
   "outputs": [],
   "source": [
    "from osgeo import gdal\n",
    "from glob import glob\n",
    "\n",
    "files_to_mosaic = glob(\"./hmt_data/20161015_RGB/*.tif\")\n",
    "g = gdal.Warp(\"./hmt_data/combined_raster.tif\", files_to_mosaic, format=\"GTiff\",\n",
    "              options=[\"COMPRESS=LZW\", \"TILED=YES\"])\n",
    "g = None # Close file and flush to disk"
   ]
  }
 ],
 "metadata": {
  "anaconda-cloud": {},
  "kernelspec": {
   "display_name": "Python [conda env:.conda-venv]",
   "language": "python",
   "name": "conda-env-.conda-venv-py"
  },
  "language_info": {
   "codemirror_mode": {
    "name": "ipython",
    "version": 3
   },
   "file_extension": ".py",
   "mimetype": "text/x-python",
   "name": "python",
   "nbconvert_exporter": "python",
   "pygments_lexer": "ipython3",
   "version": "3.9.12"
  }
 },
 "nbformat": 4,
 "nbformat_minor": 5
}
